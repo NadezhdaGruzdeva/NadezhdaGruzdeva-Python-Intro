{
 "cells": [
  {
   "cell_type": "markdown",
   "id": "d00206d0",
   "metadata": {},
   "source": [
    "#### Дана функция f(x) = x^3 - 6x^2 + 4x + 12\n",
    "\n",
    "1. Определить корни\n",
    "2. Найти интервалы, на которых функция возрастает\n",
    "3. Найти интервалы, на которых функция убывает\n",
    "4. Построить график\n",
    "5. Вычислить вершину\n",
    "6. Определить промежутки, на котором f > 0\n",
    "7. Определить промежутки, на котором f < 0\n"
   ]
  },
  {
   "cell_type": "code",
   "execution_count": 130,
   "id": "eede7105",
   "metadata": {},
   "outputs": [],
   "source": [
    "from math import sqrt\n",
    "import matplotlib.pyplot as plt\n",
    "import sympy as sp"
   ]
  },
  {
   "cell_type": "markdown",
   "id": "2d1e5cec",
   "metadata": {},
   "source": [
    "y = x ** 3 - 6 * x ** 2 + 4 * x + 12"
   ]
  },
  {
   "cell_type": "markdown",
   "id": "a0393c12",
   "metadata": {},
   "source": [
    "##### 1. Определить корни (абсциссы точек пересечения графика функции с осью Ох)"
   ]
  },
  {
   "cell_type": "code",
   "execution_count": 131,
   "id": "1e3109e5",
   "metadata": {},
   "outputs": [
    {
     "data": {
      "text/latex": [
       "$\\displaystyle x$"
      ],
      "text/plain": [
       "x"
      ]
     },
     "execution_count": 131,
     "metadata": {},
     "output_type": "execute_result"
    }
   ],
   "source": [
    "x = sp.Symbol('x')#или так с помощью sympy\n",
    "x"
   ]
  },
  {
   "cell_type": "code",
   "execution_count": 132,
   "id": "670b9b2c",
   "metadata": {},
   "outputs": [
    {
     "data": {
      "text/latex": [
       "$\\displaystyle x^{3} - 6 x^{2} + 4 x + 12$"
      ],
      "text/plain": [
       "x**3 - 6*x**2 + 4*x + 12"
      ]
     },
     "execution_count": 132,
     "metadata": {},
     "output_type": "execute_result"
    }
   ],
   "source": [
    "y = x ** 3 - 6 * x ** 2 + 4 * x + 12\n",
    "y"
   ]
  },
  {
   "cell_type": "code",
   "execution_count": 133,
   "id": "d9207679",
   "metadata": {},
   "outputs": [
    {
     "data": {
      "text/latex": [
       "$\\displaystyle 2 - \\frac{8}{\\left(- \\frac{1}{2} - \\frac{\\sqrt{3} i}{2}\\right) \\sqrt[3]{54 + 6 \\sqrt{303} i}} - \\frac{\\left(- \\frac{1}{2} - \\frac{\\sqrt{3} i}{2}\\right) \\sqrt[3]{54 + 6 \\sqrt{303} i}}{3}$"
      ],
      "text/plain": [
       "2 - 8/((-1/2 - sqrt(3)*I/2)*(54 + 6*sqrt(303)*I)**(1/3)) - (-1/2 - sqrt(3)*I/2)*(54 + 6*sqrt(303)*I)**(1/3)/3"
      ]
     },
     "execution_count": 133,
     "metadata": {},
     "output_type": "execute_result"
    }
   ],
   "source": [
    "root1 , root2 , root3 = sp.solve(y)\n",
    "root1"
   ]
  },
  {
   "cell_type": "code",
   "execution_count": 134,
   "id": "5065a1bb",
   "metadata": {},
   "outputs": [
    {
     "data": {
      "text/latex": [
       "$\\displaystyle 2 - \\frac{\\left(- \\frac{1}{2} + \\frac{\\sqrt{3} i}{2}\\right) \\sqrt[3]{54 + 6 \\sqrt{303} i}}{3} - \\frac{8}{\\left(- \\frac{1}{2} + \\frac{\\sqrt{3} i}{2}\\right) \\sqrt[3]{54 + 6 \\sqrt{303} i}}$"
      ],
      "text/plain": [
       "2 - (-1/2 + sqrt(3)*I/2)*(54 + 6*sqrt(303)*I)**(1/3)/3 - 8/((-1/2 + sqrt(3)*I/2)*(54 + 6*sqrt(303)*I)**(1/3))"
      ]
     },
     "execution_count": 134,
     "metadata": {},
     "output_type": "execute_result"
    }
   ],
   "source": [
    "root2"
   ]
  },
  {
   "cell_type": "code",
   "execution_count": 135,
   "id": "7c04343c",
   "metadata": {},
   "outputs": [
    {
     "data": {
      "text/latex": [
       "$\\displaystyle 2 - \\frac{\\sqrt[3]{54 + 6 \\sqrt{303} i}}{3} - \\frac{8}{\\sqrt[3]{54 + 6 \\sqrt{303} i}}$"
      ],
      "text/plain": [
       "2 - (54 + 6*sqrt(303)*I)**(1/3)/3 - 8/(54 + 6*sqrt(303)*I)**(1/3)"
      ]
     },
     "execution_count": 135,
     "metadata": {},
     "output_type": "execute_result"
    }
   ],
   "source": [
    "root3"
   ]
  },
  {
   "cell_type": "markdown",
   "id": "c7def6d5",
   "metadata": {},
   "source": [
    "######  2 -3.1.Поиск производной 1-ого порядка (степень * коэфф)"
   ]
  },
  {
   "cell_type": "code",
   "execution_count": 136,
   "id": "5bec4960",
   "metadata": {},
   "outputs": [
    {
     "data": {
      "text/latex": [
       "$\\displaystyle 3 x^{2} - 12 x + 4$"
      ],
      "text/plain": [
       "3*x**2 - 12*x + 4"
      ]
     },
     "execution_count": 136,
     "metadata": {},
     "output_type": "execute_result"
    }
   ],
   "source": [
    "df = sp.diff(y) \n",
    "df"
   ]
  },
  {
   "cell_type": "markdown",
   "id": "a5f82fe3",
   "metadata": {},
   "source": [
    "###### 2-3.2. Поиск интервалов, на которых функция возрастает"
   ]
  },
  {
   "cell_type": "code",
   "execution_count": 137,
   "id": "0f46cffb",
   "metadata": {},
   "outputs": [
    {
     "data": {
      "text/latex": [
       "$\\displaystyle \\left(-\\infty < x \\wedge x < 2 - \\frac{2 \\sqrt{6}}{3}\\right) \\vee \\left(x < \\infty \\wedge \\frac{2 \\sqrt{6}}{3} + 2 < x\\right)$"
      ],
      "text/plain": [
       "((-oo < x) & (x < 2 - 2*sqrt(6)/3)) | ((x < oo) & (2*sqrt(6)/3 + 2 < x))"
      ]
     },
     "execution_count": 137,
     "metadata": {},
     "output_type": "execute_result"
    }
   ],
   "source": [
    "sp.solve(df > 0)"
   ]
  },
  {
   "cell_type": "markdown",
   "id": "f02a5563",
   "metadata": {},
   "source": [
    "###### 2-3.3. Поиск интервалов, на которых функция убывает"
   ]
  },
  {
   "cell_type": "code",
   "execution_count": 138,
   "id": "4ec68e0c",
   "metadata": {},
   "outputs": [
    {
     "data": {
      "text/latex": [
       "$\\displaystyle x < \\frac{2 \\sqrt{6}}{3} + 2 \\wedge 2 - \\frac{2 \\sqrt{6}}{3} < x$"
      ],
      "text/plain": [
       "(x < 2*sqrt(6)/3 + 2) & (2 - 2*sqrt(6)/3 < x)"
      ]
     },
     "execution_count": 138,
     "metadata": {},
     "output_type": "execute_result"
    }
   ],
   "source": [
    "sp.solve(df < 0)"
   ]
  },
  {
   "cell_type": "markdown",
   "id": "4620ea80",
   "metadata": {},
   "source": [
    "##### 4. Построить график"
   ]
  },
  {
   "cell_type": "markdown",
   "id": "97591dc0",
   "metadata": {},
   "source": [
    "###### 4.1. Задаем интервал пременных (х) для построения графика"
   ]
  },
  {
   "cell_type": "code",
   "execution_count": 139,
   "id": "5e8e6813",
   "metadata": {},
   "outputs": [],
   "source": [
    "z = list(range(-2, 6))"
   ]
  },
  {
   "cell_type": "markdown",
   "id": "fd4719dc",
   "metadata": {},
   "source": [
    "###### 4.2. Определяем функцию для построения графика"
   ]
  },
  {
   "cell_type": "code",
   "execution_count": 140,
   "id": "074fbabf",
   "metadata": {},
   "outputs": [],
   "source": [
    "fz = [ x ** 3 - 6 * x ** 2 + 4 * x + 12 for x in z]"
   ]
  },
  {
   "cell_type": "code",
   "execution_count": 141,
   "id": "c667bfad",
   "metadata": {},
   "outputs": [
    {
     "data": {
      "image/png": "[encoded data removed]",
      "text/plain": [
       "<Figure size 640x480 with 1 Axes>"
      ]
     },
     "metadata": {},
     "output_type": "display_data"
    }
   ],
   "source": [
    "plt.axes(facecolor='white')\n",
    "plt.plot(z,fz)\n",
    "\n",
    "ax = plt.gca()\n",
    "# plot X - axis    \n",
    "ax.axhline(y=0, color='k')\n",
    "# plot Y - axis    \n",
    "ax.axvline(x=0, color='k')\n",
    "\n",
    "plt.grid(visible='True', axis='x')\n",
    "\n",
    "plt.fill_between(z, fz)\n",
    "\n",
    "plt.show()"
   ]
  },
  {
   "cell_type": "markdown",
   "id": "9b644ae4",
   "metadata": {},
   "source": [
    "###### 4.2. Добавим производную функции 1-ого порядка на график"
   ]
  },
  {
   "cell_type": "code",
   "execution_count": 142,
   "id": "254936de",
   "metadata": {},
   "outputs": [],
   "source": [
    "pr1 = [3 * x ** 2 -12 * x + 4 for x in z]"
   ]
  },
  {
   "cell_type": "code",
   "execution_count": 143,
   "id": "be57c1ab",
   "metadata": {},
   "outputs": [
    {
     "data": {
      "image/png": "[encoded data removed]",
      "text/plain": [
       "<Figure size 640x480 with 1 Axes>"
      ]
     },
     "metadata": {},
     "output_type": "display_data"
    }
   ],
   "source": [
    "plt.axes(facecolor='white')\n",
    "plt.plot(z,fz)\n",
    "\n",
    "plt.plot(z,pr1)\n",
    "\n",
    "ax = plt.gca()\n",
    "# plot X - axis    \n",
    "ax.axhline(y=0, color='k')\n",
    "# plot Y - axis    \n",
    "ax.axvline(x=0, color='k')\n",
    "\n",
    "plt.grid(visible='True', axis='x')\n",
    "\n",
    "plt.fill_between(z, fz)\n",
    "\n",
    "plt.show()"
   ]
  },
  {
   "cell_type": "markdown",
   "id": "4287c1f8",
   "metadata": {},
   "source": [
    "**Становится понятно значение производной:**  \n",
    "по точкам ее пересечения с осью абсцисс, можно найти экстремумы функции, в которых функция меняет направление,\n",
    "а там где ее значения отрицательные, функция убывает, и наоборот: вохрастает там, где значения производной положительные\n"
   ]
  },
  {
   "cell_type": "markdown",
   "id": "417b300e",
   "metadata": {},
   "source": [
    "###### 5. Вычислим вершину\n"
   ]
  },
  {
   "cell_type": "markdown",
   "id": "45157b89",
   "metadata": {},
   "source": [
    "Для этого найдем произодную второго порядка и приравняем ее к 0"
   ]
  },
  {
   "cell_type": "code",
   "execution_count": 144,
   "id": "d6c6632c",
   "metadata": {},
   "outputs": [
    {
     "data": {
      "text/latex": [
       "$\\displaystyle 3 x^{2} - 12 x + 4$"
      ],
      "text/plain": [
       "3*x**2 - 12*x + 4"
      ]
     },
     "execution_count": 144,
     "metadata": {},
     "output_type": "execute_result"
    }
   ],
   "source": [
    "df #производная первого порядка"
   ]
  },
  {
   "cell_type": "code",
   "execution_count": 145,
   "id": "6c4e4bf0",
   "metadata": {},
   "outputs": [
    {
     "data": {
      "text/latex": [
       "$\\displaystyle 6 x - 12$"
      ],
      "text/plain": [
       "6*x - 12"
      ]
     },
     "execution_count": 145,
     "metadata": {},
     "output_type": "execute_result"
    }
   ],
   "source": [
    "df2 = sp.diff(df) \n",
    "df2"
   ]
  },
  {
   "cell_type": "code",
   "execution_count": 146,
   "id": "d7b12e24",
   "metadata": {},
   "outputs": [
    {
     "data": {
      "text/latex": [
       "$\\displaystyle 2$"
      ],
      "text/plain": [
       "2"
      ]
     },
     "execution_count": 146,
     "metadata": {},
     "output_type": "execute_result"
    }
   ],
   "source": [
    "vershX =sp.solve(sp.Eq(df2, 0))[0]\n",
    "vershX"
   ]
  },
  {
   "cell_type": "code",
   "execution_count": 147,
   "id": "9f68f935",
   "metadata": {},
   "outputs": [
    {
     "data": {
      "text/latex": [
       "$\\displaystyle 4$"
      ],
      "text/plain": [
       "4"
      ]
     },
     "execution_count": 147,
     "metadata": {},
     "output_type": "execute_result"
    }
   ],
   "source": [
    "vershY = y.subs({x:vershX})\n",
    "vershY"
   ]
  },
  {
   "cell_type": "code",
   "execution_count": 148,
   "id": "2245665b",
   "metadata": {},
   "outputs": [
    {
     "name": "stdout",
     "output_type": "stream",
     "text": [
      "Вершина кубический параболы лeжит в точке (2, 4)\n"
     ]
    }
   ],
   "source": [
    "print(f'Вершина кубический параболы лeжит в точке ({vershX}, {vershY})')"
   ]
  },
  {
   "cell_type": "markdown",
   "id": "bbb3f756",
   "metadata": {},
   "source": [
    "###### 6. Определить промежутки, на котором f > 0"
   ]
  },
  {
   "cell_type": "code",
   "execution_count": 150,
   "id": "30ab98f7",
   "metadata": {},
   "outputs": [
    {
     "data": {
      "text/latex": [
       "$\\displaystyle \\left(x < \\infty \\wedge \\operatorname{CRootOf} {\\left(x^{3} - 6 x^{2} + 4 x + 12, 2\\right)} < x\\right) \\vee \\left(x < \\operatorname{CRootOf} {\\left(x^{3} - 6 x^{2} + 4 x + 12, 1\\right)} \\wedge \\operatorname{CRootOf} {\\left(x^{3} - 6 x^{2} + 4 x + 12, 0\\right)} < x\\right)$"
      ],
      "text/plain": [
       "((x < oo) & (CRootOf(x**3 - 6*x**2 + 4*x + 12, 2) < x)) | ((x < CRootOf(x**3 - 6*x**2 + 4*x + 12, 1)) & (CRootOf(x**3 - 6*x**2 + 4*x + 12, 0) < x))"
      ]
     },
     "execution_count": 150,
     "metadata": {},
     "output_type": "execute_result"
    }
   ],
   "source": [
    "sp.solve(y>0)"
   ]
  },
  {
   "cell_type": "markdown",
   "id": "8f585366",
   "metadata": {},
   "source": [
    "###### 7. Определить промежутки, на котором f < 0\n"
   ]
  },
  {
   "cell_type": "code",
   "execution_count": 151,
   "id": "aef66048",
   "metadata": {},
   "outputs": [
    {
     "data": {
      "text/latex": [
       "$\\displaystyle \\left(-\\infty < x \\wedge x < \\operatorname{CRootOf} {\\left(x^{3} - 6 x^{2} + 4 x + 12, 0\\right)}\\right) \\vee \\left(x < \\operatorname{CRootOf} {\\left(x^{3} - 6 x^{2} + 4 x + 12, 2\\right)} \\wedge \\operatorname{CRootOf} {\\left(x^{3} - 6 x^{2} + 4 x + 12, 1\\right)} < x\\right)$"
      ],
      "text/plain": [
       "((-oo < x) & (x < CRootOf(x**3 - 6*x**2 + 4*x + 12, 0))) | ((x < CRootOf(x**3 - 6*x**2 + 4*x + 12, 2)) & (CRootOf(x**3 - 6*x**2 + 4*x + 12, 1) < x))"
      ]
     },
     "execution_count": 151,
     "metadata": {},
     "output_type": "execute_result"
    }
   ],
   "source": [
    "sp.solve(y<0)"
   ]
  }
 ],
 "metadata": {
  "kernelspec": {
   "display_name": "Python 3 (ipykernel)",
   "language": "python",
   "name": "python3"
  },
  "language_info": {
   "codemirror_mode": {
    "name": "ipython",
    "version": 3
   },
   "file_extension": ".py",
   "mimetype": "text/x-python",
   "name": "python",
   "nbconvert_exporter": "python",
   "pygments_lexer": "ipython3",
   "version": "3.9.13"
  }
 },
 "nbformat": 4,
 "nbformat_minor": 5
}
